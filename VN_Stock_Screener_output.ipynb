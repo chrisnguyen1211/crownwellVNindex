{
 "cells": [
  {
   "cell_type": "code",
   "execution_count": 1,
   "id": "5096fda3",
   "metadata": {
    "execution": {
     "iopub.execute_input": "2025-09-23T03:12:49.532989Z",
     "iopub.status.busy": "2025-09-23T03:12:49.532712Z",
     "iopub.status.idle": "2025-09-23T03:12:50.197169Z",
     "shell.execute_reply": "2025-09-23T03:12:50.196727Z"
    },
    "papermill": {
     "duration": 0.66922,
     "end_time": "2025-09-23T03:12:50.198144",
     "exception": false,
     "start_time": "2025-09-23T03:12:49.528924",
     "status": "completed"
    },
    "tags": []
   },
   "outputs": [
    {
     "name": "stdout",
     "output_type": "stream",
     "text": [
      "Note: you may need to restart the kernel to use updated packages.\n"
     ]
    }
   ],
   "source": [
    "# Install required packages (run once)\n",
    "%pip install -q vnstock pandas numpy tqdm\n"
   ]
  },
  {
   "cell_type": "code",
   "execution_count": 2,
   "id": "7119b1ac",
   "metadata": {
    "execution": {
     "iopub.execute_input": "2025-09-23T03:12:50.201658Z",
     "iopub.status.busy": "2025-09-23T03:12:50.201516Z",
     "iopub.status.idle": "2025-09-23T03:12:51.292456Z",
     "shell.execute_reply": "2025-09-23T03:12:51.292202Z"
    },
    "papermill": {
     "duration": 1.093524,
     "end_time": "2025-09-23T03:12:51.293205",
     "exception": false,
     "start_time": "2025-09-23T03:12:50.199681",
     "status": "completed"
    },
    "tags": []
   },
   "outputs": [
    {
     "name": "stderr",
     "output_type": "stream",
     "text": [
      "/Users/nguyenhuycuong/Crownwell Stock/.venv/lib/python3.13/site-packages/vnai/scope/profile.py:562: UserWarning: pkg_resources is deprecated as an API. See https://setuptools.pypa.io/en/latest/pkg_resources.html. The pkg_resources package is slated for removal as early as 2025-11-30. Refrain from using this package or pin to Setuptools<81.\n",
      "  import pkg_resources\n"
     ]
    },
    {
     "data": {
      "text/markdown": [
       "Thư viện `vnstock3` đã được hợp nhất với tên gọi `vnstock`. Phiên bản mới nhất 3.2.6 đã có mặt.Vui lòng chuyển đổi gói thư viện thành `vnstock` để luôn nhận bản cập nhật với câu lệnh : `pip install vnstock --upgrade`.\n",
       "Lịch sử phiên bản: https://vnstocks.com/docs/tai-lieu/lich-su-phien-ban\n",
       "Phiên bản hiện tại 3.2.1"
      ],
      "text/plain": [
       "<IPython.core.display.Markdown object>"
      ]
     },
     "metadata": {},
     "output_type": "display_data"
    },
    {
     "data": {
      "text/html": [
       "\n",
       "<div style=\"background-color: #f0f8ff; border: 2px solid #4682b4; border-radius: 10px; padding: 20px; font-family: Arial, sans-serif;\">\n",
       "    <h2 style=\"color: #4682b4;\">🚀 Xin chào! Có tin vui cho bạn đây! 🎉</h2>\n",
       "    <p>Bạn đang dùng phiên bản phần mềm <code>vnstock3</code>.</p>\n",
       "    <p>Hiện tại Vnstock đã hợp nhất tên gọi thư viện thành <code>vnstock</code>. Hay quá phải không nào? 😃</p>\n",
       "    <h3 style=\"color: #20b2aa;\">Hãy cập nhật ngay để trải nghiệm phiên bản mới nhất:</h3>\n",
       "    <pre style=\"background-color: #f0f8ff; border: 1px solid #4682b4; padding: 10px; border-radius: 5px;\"><code>pip install -U vnstock</code></pre>\n",
       "    <p>Muốn biết thêm chi tiết? Ghé thăm: <a href=\"https://vnstocks.com/docs/tai-lieu/huong-dan-nhanh\" style=\"color: #4682b4;\">https://vnstocks.com/docs/tai-lieu/huong-dan-nhanh</a></p>\n",
       "    <p style=\"color: #ff6347;\">Cảm ơn bạn đã luôn đồng hành cùng Vnstock! ❤️</p>\n",
       "</div>\n"
      ],
      "text/plain": [
       "<IPython.core.display.HTML object>"
      ]
     },
     "metadata": {},
     "output_type": "display_data"
    },
    {
     "name": "stdout",
     "output_type": "stream",
     "text": [
      "Environment ready with vnstock3.\n"
     ]
    }
   ],
   "source": [
    "import pandas as pd\n",
    "import numpy as np\n",
    "from datetime import datetime, timedelta\n",
    "from tqdm import tqdm\n",
    "\n",
    "# Use vnstock3 unified API\n",
    "try:\n",
    "    from vnstock3 import Finance, Listing\n",
    "except Exception as e:\n",
    "    raise RuntimeError('vnstock3 not available. Please install vnstock3 in the venv.')\n",
    "\n",
    "pd.set_option('display.max_columns', None)\n",
    "pd.set_option('display.width', 160)\n",
    "\n",
    "print('Environment ready with vnstock3.')\n"
   ]
  },
  {
   "cell_type": "markdown",
   "id": "78108abd",
   "metadata": {
    "papermill": {
     "duration": 0.000949,
     "end_time": "2025-09-23T03:12:51.295720",
     "exception": false,
     "start_time": "2025-09-23T03:12:51.294771",
     "status": "completed"
    },
    "tags": []
   },
   "source": [
    "## Criteria mapping (draft)\n",
    "\n",
    "This notebook implements quantitative filters based on your table:\n",
    "\n",
    "- Market position: proxy by market cap rank within industry (Top 3) — requires sector mapping.\n",
    "- Growth: revenue and profit CAGR over 3 years >= thresholds.\n",
    "- Profitability: ROE, ROA, gross margin.\n",
    "- Valuation: PEG <= 1.5, EV/EBITDA <= 10, P/B <= 2 (as proxies based on your sheet).\n",
    "- Liquidity: Avg trading value >= 1e9 VND/day (adjust as needed).\n",
    "- Ownership/float: Free float >= 40% when available.\n",
    "\n",
    "Qualitative items (brand strength, moat, management, ESG, strategy, new trends) are left as manual review columns.\n"
   ]
  },
  {
   "cell_type": "code",
   "execution_count": 3,
   "id": "35e70d5e",
   "metadata": {
    "execution": {
     "iopub.execute_input": "2025-09-23T03:12:51.297833Z",
     "iopub.status.busy": "2025-09-23T03:12:51.297692Z",
     "iopub.status.idle": "2025-09-23T03:12:51.300592Z",
     "shell.execute_reply": "2025-09-23T03:12:51.300373Z"
    },
    "papermill": {
     "duration": 0.004763,
     "end_time": "2025-09-23T03:12:51.301232",
     "exception": false,
     "start_time": "2025-09-23T03:12:51.296469",
     "status": "completed"
    },
    "tags": []
   },
   "outputs": [],
   "source": [
    "# Helper: fetch tickers, fundamentals using vnstock3\n",
    "\n",
    "def get_all_tickers(exchange: str = 'ALL') -> pd.DataFrame:\n",
    "    boards = ['HOSE', 'HNX', 'UPCOM'] if exchange == 'ALL' else [exchange]\n",
    "    frames = []\n",
    "    ls = Listing()\n",
    "    for b in boards:\n",
    "        try:\n",
    "            df = ls.symbols_by_exchange(exchange=b)\n",
    "            df['exchange'] = b\n",
    "            frames.append(df[['symbol','exchange']])\n",
    "        except Exception:\n",
    "            pass\n",
    "    if not frames:\n",
    "        raise RuntimeError('Could not retrieve tickers')\n",
    "    return pd.concat(frames, ignore_index=True)\n",
    "\n",
    "\n",
    "def get_ratios(symbol: str) -> pd.DataFrame:\n",
    "    try:\n",
    "        df = Finance(symbol=symbol).ratio(period='year')\n",
    "        df['symbol'] = symbol\n",
    "        return df.reset_index().rename(columns={'period':'year'})\n",
    "    except Exception:\n",
    "        return pd.DataFrame()\n",
    "\n",
    "\n",
    "def get_income(symbol: str) -> pd.DataFrame:\n",
    "    try:\n",
    "        df = Finance(symbol=symbol).income_statement(period='year')\n",
    "        df['symbol'] = symbol\n",
    "        return df.reset_index().rename(columns={'period':'year'})\n",
    "    except Exception:\n",
    "        return pd.DataFrame()\n",
    "\n",
    "\n",
    "def get_overview(symbol: str) -> dict:\n",
    "    return {'symbol': symbol}\n",
    "\n"
   ]
  },
  {
   "cell_type": "code",
   "execution_count": 4,
   "id": "864ae042",
   "metadata": {
    "execution": {
     "iopub.execute_input": "2025-09-23T03:12:51.303372Z",
     "iopub.status.busy": "2025-09-23T03:12:51.303276Z",
     "iopub.status.idle": "2025-09-23T03:12:51.305717Z",
     "shell.execute_reply": "2025-09-23T03:12:51.305484Z"
    },
    "papermill": {
     "duration": 0.00421,
     "end_time": "2025-09-23T03:12:51.306408",
     "exception": false,
     "start_time": "2025-09-23T03:12:51.302198",
     "status": "completed"
    },
    "tags": []
   },
   "outputs": [
    {
     "data": {
      "text/plain": [
       "{'market_rank_top_n': 3,\n",
       " 'min_revenue_cagr_3y': 0.05,\n",
       " 'min_profit_cagr_3y': 0.1,\n",
       " 'min_roe': 0.1,\n",
       " 'min_roa': 0.03,\n",
       " 'max_peg': 1.5,\n",
       " 'max_ev_ebitda': 12.0,\n",
       " 'max_pb': 3.0,\n",
       " 'min_avg_trading_value_vnd': 500000000,\n",
       " 'min_free_float': 0.3}"
      ]
     },
     "execution_count": 4,
     "metadata": {},
     "output_type": "execute_result"
    }
   ],
   "source": [
    "# Config: thresholds (adjust if needed)\n",
    "CRITERIA = {\n",
    "    'market_rank_top_n': 3,\n",
    "    'min_revenue_cagr_3y': 0.05,   # 5%\n",
    "    'min_profit_cagr_3y': 0.10,    # 10%\n",
    "    'min_roe': 0.10,               # 10%\n",
    "    'min_roa': 0.03,               # 3%\n",
    "    'max_peg': 1.5,\n",
    "    'max_ev_ebitda': 12.0,\n",
    "    'max_pb': 3.0,\n",
    "    'min_avg_trading_value_vnd': 500_000_000,  # 0.5B VND/day\n",
    "    'min_free_float': 0.30\n",
    "}\n",
    "CRITERIA\n"
   ]
  },
  {
   "cell_type": "code",
   "execution_count": 5,
   "id": "513cdfe3",
   "metadata": {
    "execution": {
     "iopub.execute_input": "2025-09-23T03:12:51.308807Z",
     "iopub.status.busy": "2025-09-23T03:12:51.308713Z",
     "iopub.status.idle": "2025-09-23T03:12:51.390839Z",
     "shell.execute_reply": "2025-09-23T03:12:51.390583Z"
    },
    "papermill": {
     "duration": 0.084272,
     "end_time": "2025-09-23T03:12:51.391685",
     "exception": false,
     "start_time": "2025-09-23T03:12:51.307413",
     "status": "completed"
    },
    "tags": []
   },
   "outputs": [
    {
     "data": {
      "text/plain": [
       "(10, ['VIC', 'VHM', 'VNM', 'HPG', 'VCB', 'ACB', 'MWG', 'FPT', 'SSI', 'GAS'])"
      ]
     },
     "execution_count": 5,
     "metadata": {},
     "output_type": "execute_result"
    }
   ],
   "source": [
    "# Fetch tickers and fundamentals using vnstock3\n",
    "boards = ['HOSE', 'HNX', 'UPCOM']\n",
    "try:\n",
    "    ls = Listing()\n",
    "    tickers = []\n",
    "    for b in boards:\n",
    "        dfb = ls.symbols_by_exchange(exchange=b)\n",
    "        tickers.extend(sorted(dfb['symbol'].unique().tolist()))\n",
    "    tickers = sorted(list(set(tickers)))\n",
    "except Exception:\n",
    "    tickers = ['VIC','VHM','VNM','HPG','VCB','ACB','MWG','FPT','SSI','GAS']\n",
    "\n",
    "len(tickers), tickers[:10]\n"
   ]
  },
  {
   "cell_type": "code",
   "execution_count": 6,
   "id": "6f3bf9ae",
   "metadata": {
    "execution": {
     "iopub.execute_input": "2025-09-23T03:12:51.394324Z",
     "iopub.status.busy": "2025-09-23T03:12:51.394219Z",
     "iopub.status.idle": "2025-09-23T03:12:55.574739Z",
     "shell.execute_reply": "2025-09-23T03:12:55.574266Z"
    },
    "papermill": {
     "duration": 4.182925,
     "end_time": "2025-09-23T03:12:55.575868",
     "exception": false,
     "start_time": "2025-09-23T03:12:51.392943",
     "status": "completed"
    },
    "tags": []
   },
   "outputs": [
    {
     "name": "stderr",
     "output_type": "stream",
     "text": [
      "\r",
      "Downloading fundamentals:   0%|          | 0/10 [00:00<?, ?it/s]"
     ]
    },
    {
     "name": "stderr",
     "output_type": "stream",
     "text": [
      "\r",
      "Downloading fundamentals:  10%|█         | 1/10 [00:00<00:03,  2.53it/s]"
     ]
    },
    {
     "name": "stderr",
     "output_type": "stream",
     "text": [
      "\r",
      "Downloading fundamentals:  20%|██        | 2/10 [00:00<00:03,  2.65it/s]"
     ]
    },
    {
     "name": "stderr",
     "output_type": "stream",
     "text": [
      "\r",
      "Downloading fundamentals:  30%|███       | 3/10 [00:01<00:02,  2.49it/s]"
     ]
    },
    {
     "name": "stderr",
     "output_type": "stream",
     "text": [
      "\r",
      "Downloading fundamentals:  40%|████      | 4/10 [00:01<00:02,  2.40it/s]"
     ]
    },
    {
     "name": "stderr",
     "output_type": "stream",
     "text": [
      "\r",
      "Downloading fundamentals:  50%|█████     | 5/10 [00:02<00:02,  2.41it/s]"
     ]
    },
    {
     "name": "stderr",
     "output_type": "stream",
     "text": [
      "\r",
      "Downloading fundamentals:  60%|██████    | 6/10 [00:02<00:01,  2.44it/s]"
     ]
    },
    {
     "name": "stderr",
     "output_type": "stream",
     "text": [
      "\r",
      "Downloading fundamentals:  70%|███████   | 7/10 [00:02<00:01,  2.46it/s]"
     ]
    },
    {
     "name": "stderr",
     "output_type": "stream",
     "text": [
      "\r",
      "Downloading fundamentals:  80%|████████  | 8/10 [00:03<00:00,  2.34it/s]"
     ]
    },
    {
     "name": "stderr",
     "output_type": "stream",
     "text": [
      "\r",
      "Downloading fundamentals:  90%|█████████ | 9/10 [00:03<00:00,  2.33it/s]"
     ]
    },
    {
     "name": "stderr",
     "output_type": "stream",
     "text": [
      "\r",
      "Downloading fundamentals: 100%|██████████| 10/10 [00:04<00:00,  2.39it/s]"
     ]
    },
    {
     "name": "stderr",
     "output_type": "stream",
     "text": [
      "\r",
      "Downloading fundamentals: 100%|██████████| 10/10 [00:04<00:00,  2.41it/s]"
     ]
    },
    {
     "name": "stderr",
     "output_type": "stream",
     "text": [
      "\n"
     ]
    },
    {
     "data": {
      "text/plain": [
       "(   year  price_to_earning  price_to_book  value_before_ebitda  dividend    roe    roa  days_receivable  days_inventory  days_payable  ebit_on_interest  \\\n",
       " 0  2024              13.1            1.1                 28.4       NaN  0.095  0.016           -161.0           233.0          80.0              -0.3   \n",
       " 1  2023              79.7            1.5                 23.9       NaN  0.019  0.003            -83.0           253.0          99.0              -0.1   \n",
       " 2  2022              23.6            1.9                 35.0       NaN  0.083  0.017             -1.0           312.0          76.0              -1.0   \n",
       " 3  2021            -145.8            3.6                 26.1       NaN -0.028 -0.006             17.0           225.0          88.0               0.3   \n",
       " 4  2020              67.8            4.7                 91.8       NaN  0.070  0.013             21.0           287.0          92.0              -0.3   \n",
       " \n",
       "    earning_per_share  book_value_per_share  equity_on_total_asset  equity_on_liability  current_payment  quick_payment  eps_change  ebitda_on_stock  \\\n",
       " 0               3089               35659.0                  0.164                  0.2              0.8            0.6       4.519           4312.0   \n",
       " 1                559               29519.0                  0.170                  0.3              0.9            0.6      -0.754           3908.0   \n",
       " 2               2279               28573.0                  0.191                  0.3              0.9            0.6      -4.493           2754.0   \n",
       " 3               -652               26076.0                  0.235                  0.6              1.1            0.8      -1.460           4934.0   \n",
       " 4               1418               20554.0                  0.187                  0.5              1.0            0.6      -0.285           1955.0   \n",
       " \n",
       "    gross_profit_margin  operating_profit_margin  post_tax_margin  debt_on_equity  debt_on_asset  debt_on_ebitda  short_on_long_debt  asset_on_equity  \\\n",
       " 0                0.144                      NaN            0.063             1.5            0.3            13.2                 0.7              6.1   \n",
       " 1                0.146                      NaN            0.013             1.4            0.3            12.7                 1.2              5.9   \n",
       " 2                0.144                      NaN            0.086             1.3            0.3            14.2                 0.3              5.2   \n",
       " 3                0.271                    0.025              NaN             0.8            0.3             7.2                 0.2              4.3   \n",
       " 4                0.157                      NaN            0.049             1.0            0.3            19.2                 0.3              5.3   \n",
       " \n",
       "    capital_balance  cash_on_equity  cash_on_capitalize  cash_circulation  revenue_on_work_capital  capex_on_fixed_asset  revenue_on_asset  \\\n",
       " 0        -108812.0           0.277               0.164              -7.0                      NaN                -0.265               0.2   \n",
       " 1         -57762.0           0.189               0.174              72.0                      NaN                -0.340               0.2   \n",
       " 2         -15295.0           0.193               0.131             236.0                      NaN                -0.628               0.2   \n",
       " 3          14929.0           0.115               0.061             154.0                     21.4                -0.282               0.3   \n",
       " 4          -3209.0           0.216               0.063             216.0                     17.1                -0.219               0.3   \n",
       " \n",
       "    post_tax_on_pre_tax  ebit_on_revenue  pre_tax_on_ebit  payable_on_equity  ebitda_on_stock_change  book_value_per_share_change symbol  interest_margin  \\\n",
       " 0                  0.7              NaN             -2.8                4.4                   0.104                        0.208    VIC              NaN   \n",
       " 1                  0.2              NaN             -5.6                3.5                   0.419                        0.033    VIC              NaN   \n",
       " 2                  0.7              NaN             -1.2                3.3                  -0.442                        0.096    VIC              NaN   \n",
       " 3                  NaN            0.025              1.0                1.7                   1.524                        0.269    VIC              NaN   \n",
       " 4                  0.4              NaN             -4.2                2.1                  -0.654                        0.024    VIC              NaN   \n",
       " \n",
       "    non_interest_on_toi  bad_debt_percentage  provision_on_bad_debt  cost_of_financing  equity_on_loan  cost_to_income  pre_provision_on_toi  post_tax_on_toi  \\\n",
       " 0                  NaN                  NaN                    NaN                NaN             NaN             NaN                   NaN              NaN   \n",
       " 1                  NaN                  NaN                    NaN                NaN             NaN             NaN                   NaN              NaN   \n",
       " 2                  NaN                  NaN                    NaN                NaN             NaN             NaN                   NaN              NaN   \n",
       " 3                  NaN                  NaN                    NaN                NaN             NaN             NaN                   NaN              NaN   \n",
       " 4                  NaN                  NaN                    NaN                NaN             NaN             NaN                   NaN              NaN   \n",
       " \n",
       "    loan_on_earn_asset  loan_on_asset  loan_on_deposit  deposit_on_earn_asset  bad_debt_on_asset  liquidity_on_liability  cancel_debt  credit_growth  \n",
       " 0                 NaN            NaN              NaN                    NaN                NaN                     NaN          NaN            NaN  \n",
       " 1                 NaN            NaN              NaN                    NaN                NaN                     NaN          NaN            NaN  \n",
       " 2                 NaN            NaN              NaN                    NaN                NaN                     NaN          NaN            NaN  \n",
       " 3                 NaN            NaN              NaN                    NaN                NaN                     NaN          NaN            NaN  \n",
       " 4                 NaN            NaN              NaN                    NaN                NaN                     NaN          NaN            NaN  ,\n",
       "    year  revenue  year_revenue_growth  cost_of_good_sold  gross_profit  operation_expense  operation_profit  year_operation_profit_growth  interest_expense  \\\n",
       " 0  2024   189068                0.171          -161767.0       27301.0           -33202.0           -5901.0                           NaN          -22980.0   \n",
       " 1  2023   161428                0.586          -137919.0       23508.0           -25977.0           -2469.0                           NaN          -17246.0   \n",
       " 2  2022   101794               -0.190           -87100.0       14694.0           -25325.0          -10631.0                           NaN          -10758.0   \n",
       " 3  2021   125688                0.138           -91623.0       34065.0           -30944.0            3120.0                           NaN          -10289.0   \n",
       " 4  2020   110490               -0.150           -93177.0       17313.0           -20657.0           -3344.0                           NaN          -11402.0   \n",
       " \n",
       "    pre_tax_profit  post_tax_profit  share_holder_income  year_share_holder_income_growth   ebitda symbol  invest_profit  service_profit  other_profit  \\\n",
       " 0           16739             5276                11903                            4.519  16726.0    VIC            NaN             NaN           NaN   \n",
       " 1           13769             2056                 2157                           -0.754  15137.0    VIC            NaN             NaN           NaN   \n",
       " 2           12756             2044                 8782                              NaN  10653.0    VIC            NaN             NaN           NaN   \n",
       " 3            3146            -7558                -2514                              NaN  18040.0    VIC            NaN             NaN           NaN   \n",
       " 4           13943             4546                 5465                           -0.276   6720.0    VIC            NaN             NaN           NaN   \n",
       " \n",
       "    provision_expense  operation_income  \n",
       " 0                NaN               NaN  \n",
       " 1                NaN               NaN  \n",
       " 2                NaN               NaN  \n",
       " 3                NaN               NaN  \n",
       " 4                NaN               NaN  )"
      ]
     },
     "execution_count": 6,
     "metadata": {},
     "output_type": "execute_result"
    }
   ],
   "source": [
    "# Download yearly income statement and ratios for each ticker (can take time)\n",
    "ratio_list = []\n",
    "inc_list = []\n",
    "for sym in tqdm(tickers, desc='Downloading fundamentals'):\n",
    "    r = get_ratios(sym)\n",
    "    if not r.empty:\n",
    "        ratio_list.append(r)\n",
    "    i = get_income(sym)\n",
    "    if not i.empty:\n",
    "        inc_list.append(i)\n",
    "\n",
    "ratios = pd.concat(ratio_list, ignore_index=True) if ratio_list else pd.DataFrame()\n",
    "income = pd.concat(inc_list, ignore_index=True) if inc_list else pd.DataFrame()\n",
    "\n",
    "ratios.head(), income.head()\n"
   ]
  },
  {
   "cell_type": "code",
   "execution_count": 7,
   "id": "a7b2f0f6",
   "metadata": {
    "execution": {
     "iopub.execute_input": "2025-09-23T03:12:55.581263Z",
     "iopub.status.busy": "2025-09-23T03:12:55.581119Z",
     "iopub.status.idle": "2025-09-23T03:12:55.601009Z",
     "shell.execute_reply": "2025-09-23T03:12:55.600705Z"
    },
    "papermill": {
     "duration": 0.022935,
     "end_time": "2025-09-23T03:12:55.601806",
     "exception": false,
     "start_time": "2025-09-23T03:12:55.578871",
     "status": "completed"
    },
    "tags": []
   },
   "outputs": [
    {
     "data": {
      "text/html": [
       "<div>\n",
       "<style scoped>\n",
       "    .dataframe tbody tr th:only-of-type {\n",
       "        vertical-align: middle;\n",
       "    }\n",
       "\n",
       "    .dataframe tbody tr th {\n",
       "        vertical-align: top;\n",
       "    }\n",
       "\n",
       "    .dataframe thead th {\n",
       "        text-align: right;\n",
       "    }\n",
       "</style>\n",
       "<table border=\"1\" class=\"dataframe\">\n",
       "  <thead>\n",
       "    <tr style=\"text-align: right;\">\n",
       "      <th></th>\n",
       "      <th>symbol</th>\n",
       "      <th>pe</th>\n",
       "      <th>pb</th>\n",
       "      <th>roe</th>\n",
       "      <th>roa</th>\n",
       "      <th>rev_cagr_3y</th>\n",
       "      <th>profit_cagr_3y</th>\n",
       "    </tr>\n",
       "  </thead>\n",
       "  <tbody>\n",
       "    <tr>\n",
       "      <th>0</th>\n",
       "      <td>ACB</td>\n",
       "      <td>6.6</td>\n",
       "      <td>1.3</td>\n",
       "      <td>NaN</td>\n",
       "      <td>NaN</td>\n",
       "      <td>0.136294</td>\n",
       "      <td>0.204707</td>\n",
       "    </tr>\n",
       "    <tr>\n",
       "      <th>1</th>\n",
       "      <td>FPT</td>\n",
       "      <td>28.5</td>\n",
       "      <td>7.5</td>\n",
       "      <td>NaN</td>\n",
       "      <td>NaN</td>\n",
       "      <td>0.207956</td>\n",
       "      <td>0.207907</td>\n",
       "    </tr>\n",
       "    <tr>\n",
       "      <th>2</th>\n",
       "      <td>GAS</td>\n",
       "      <td>14.9</td>\n",
       "      <td>2.6</td>\n",
       "      <td>NaN</td>\n",
       "      <td>NaN</td>\n",
       "      <td>0.094482</td>\n",
       "      <td>0.061577</td>\n",
       "    </tr>\n",
       "    <tr>\n",
       "      <th>3</th>\n",
       "      <td>HPG</td>\n",
       "      <td>14.2</td>\n",
       "      <td>1.5</td>\n",
       "      <td>NaN</td>\n",
       "      <td>NaN</td>\n",
       "      <td>-0.024713</td>\n",
       "      <td>-0.296484</td>\n",
       "    </tr>\n",
       "    <tr>\n",
       "      <th>4</th>\n",
       "      <td>MWG</td>\n",
       "      <td>23.9</td>\n",
       "      <td>3.2</td>\n",
       "      <td>NaN</td>\n",
       "      <td>NaN</td>\n",
       "      <td>0.029953</td>\n",
       "      <td>-0.086747</td>\n",
       "    </tr>\n",
       "  </tbody>\n",
       "</table>\n",
       "</div>"
      ],
      "text/plain": [
       "  symbol    pe   pb  roe  roa  rev_cagr_3y  profit_cagr_3y\n",
       "0    ACB   6.6  1.3  NaN  NaN     0.136294        0.204707\n",
       "1    FPT  28.5  7.5  NaN  NaN     0.207956        0.207907\n",
       "2    GAS  14.9  2.6  NaN  NaN     0.094482        0.061577\n",
       "3    HPG  14.2  1.5  NaN  NaN    -0.024713       -0.296484\n",
       "4    MWG  23.9  3.2  NaN  NaN     0.029953       -0.086747"
      ]
     },
     "execution_count": 7,
     "metadata": {},
     "output_type": "execute_result"
    }
   ],
   "source": [
    "# Compute derived metrics: CAGR, PEG, EV/EBITDA proxies\n",
    "\n",
    "def compute_cagr(series: pd.Series, years: int = 3) -> float:\n",
    "    series = series.dropna().sort_index()\n",
    "    if len(series) < years + 1:\n",
    "        return np.nan\n",
    "    start = series.iloc[-(years+1)]\n",
    "    end = series.iloc[-1]\n",
    "    if start <= 0:\n",
    "        return np.nan\n",
    "    return (end / start) ** (1/years) - 1\n",
    "\n",
    "# Prepare income by symbol-year pivot using vnstock3 columns\n",
    "if not income.empty:\n",
    "    inc = income.copy()\n",
    "    inc.columns = [c.lower() for c in inc.columns]\n",
    "    year_col = 'year'\n",
    "    revenue_col = 'revenue'\n",
    "    profit_col = 'post_tax_profit'  # vnstock3 income_statement column\n",
    "\n",
    "    # Optional yearly growth columns provided by vnstock3\n",
    "    rev_growth_col = 'year_revenue_growth' if 'year_revenue_growth' in inc.columns else None\n",
    "    profit_growth_col = 'year_share_holder_income_growth' if 'year_share_holder_income_growth' in inc.columns else None\n",
    "\n",
    "    cagr_rows = []\n",
    "    for sym, g in inc.groupby('symbol'):\n",
    "        try:\n",
    "            g = g.sort_values(by=year_col)\n",
    "            rev_series = g.set_index(year_col)[revenue_col]\n",
    "            prof_series = g.set_index(year_col)[profit_col]\n",
    "            rev_cagr = compute_cagr(rev_series)\n",
    "            prof_cagr = compute_cagr(prof_series)\n",
    "            # Fallback: average of last 3 yearly growth values if CAGR NaN\n",
    "            if pd.isna(rev_cagr) and rev_growth_col:\n",
    "                rev_cagr = g[rev_growth_col].tail(3).mean()\n",
    "            if pd.isna(prof_cagr) and profit_growth_col:\n",
    "                prof_cagr = g[profit_growth_col].tail(3).mean()\n",
    "        except Exception:\n",
    "            rev_cagr = np.nan\n",
    "            prof_cagr = np.nan\n",
    "        cagr_rows.append({'symbol': sym, 'rev_cagr_3y': rev_cagr, 'profit_cagr_3y': prof_cagr})\n",
    "    cagr_df = pd.DataFrame(cagr_rows)\n",
    "else:\n",
    "    cagr_df = pd.DataFrame(columns=['symbol','rev_cagr_3y','profit_cagr_3y'])\n",
    "\n",
    "# Ratios normalization using vnstock3 columns\n",
    "if not ratios.empty:\n",
    "    r = ratios.copy()\n",
    "    r.columns = [c.lower() for c in r.columns]\n",
    "    latest = r.sort_values(['symbol','year']).groupby('symbol').tail(1)\n",
    "    # vnstock3 ratio columns\n",
    "    col_map = {\n",
    "        'price_to_earning': 'pe',\n",
    "        'price_to_book': 'pb',\n",
    "        'return_on_equity': 'roe',\n",
    "        'return_on_asset': 'roa',\n",
    "    }\n",
    "    keep = ['symbol'] + [c for c in col_map.keys() if c in latest.columns]\n",
    "    latest = latest[keep].rename(columns=col_map)\n",
    "    for c in ['roe','roa','pe','pb']:\n",
    "        if c not in latest.columns:\n",
    "            latest[c] = np.nan\n",
    "else:\n",
    "    latest = pd.DataFrame(columns=['symbol','roe','roa','pe','pb'])\n",
    "\n",
    "metrics = latest.merge(cagr_df, on='symbol', how='left')\n",
    "metrics.head()\n"
   ]
  },
  {
   "cell_type": "code",
   "execution_count": 8,
   "id": "ae100aaf",
   "metadata": {
    "execution": {
     "iopub.execute_input": "2025-09-23T03:12:55.605501Z",
     "iopub.status.busy": "2025-09-23T03:12:55.605393Z",
     "iopub.status.idle": "2025-09-23T03:12:55.613400Z",
     "shell.execute_reply": "2025-09-23T03:12:55.613148Z"
    },
    "papermill": {
     "duration": 0.01063,
     "end_time": "2025-09-23T03:12:55.614236",
     "exception": false,
     "start_time": "2025-09-23T03:12:55.603606",
     "status": "completed"
    },
    "tags": []
   },
   "outputs": [
    {
     "data": {
      "text/html": [
       "<div>\n",
       "<style scoped>\n",
       "    .dataframe tbody tr th:only-of-type {\n",
       "        vertical-align: middle;\n",
       "    }\n",
       "\n",
       "    .dataframe tbody tr th {\n",
       "        vertical-align: top;\n",
       "    }\n",
       "\n",
       "    .dataframe thead th {\n",
       "        text-align: right;\n",
       "    }\n",
       "</style>\n",
       "<table border=\"1\" class=\"dataframe\">\n",
       "  <thead>\n",
       "    <tr style=\"text-align: right;\">\n",
       "      <th></th>\n",
       "      <th>symbol</th>\n",
       "      <th>pe</th>\n",
       "      <th>pb</th>\n",
       "      <th>roe</th>\n",
       "      <th>roa</th>\n",
       "      <th>rev_cagr_3y</th>\n",
       "      <th>profit_cagr_3y</th>\n",
       "      <th>peg</th>\n",
       "    </tr>\n",
       "  </thead>\n",
       "  <tbody>\n",
       "    <tr>\n",
       "      <th>0</th>\n",
       "      <td>VHM</td>\n",
       "      <td>5.2</td>\n",
       "      <td>0.8</td>\n",
       "      <td>NaN</td>\n",
       "      <td>NaN</td>\n",
       "      <td>0.063837</td>\n",
       "      <td>-0.034329</td>\n",
       "      <td>-151.476037</td>\n",
       "    </tr>\n",
       "  </tbody>\n",
       "</table>\n",
       "</div>"
      ],
      "text/plain": [
       "  symbol   pe   pb  roe  roa  rev_cagr_3y  profit_cagr_3y         peg\n",
       "0    VHM  5.2  0.8  NaN  NaN     0.063837       -0.034329 -151.476037"
      ]
     },
     "execution_count": 8,
     "metadata": {},
     "output_type": "execute_result"
    }
   ],
   "source": [
    "# Apply filters based on CRITERIA\n",
    "m = metrics.copy()\n",
    "# Convert percentage ratios if in percent\n",
    "for col in ['roe','roa']:\n",
    "    if col in m.columns and m[col].notna().any():\n",
    "        if m[col].max() > 1:\n",
    "            m[col] = m[col] / 100.0\n",
    "\n",
    "# PEG only if growth available\n",
    "m['peg'] = m.get('pe') / (m.get('profit_cagr_3y')) if ('pe' in m.columns and 'profit_cagr_3y' in m.columns) else np.nan\n",
    "\n",
    "# Growth: allow either revenue or profit to meet thresholds\n",
    "growth_ok = (\n",
    "    (m.get('rev_cagr_3y').fillna(-1) >= CRITERIA['min_revenue_cagr_3y']) |\n",
    "    (m.get('profit_cagr_3y').fillna(-1) >= CRITERIA['min_profit_cagr_3y'])\n",
    ")\n",
    "\n",
    "# Profitability: at least one of ROE/ROA meets threshold when available\n",
    "roe_ok = (m.get('roe').fillna(-1) >= CRITERIA['min_roe'])\n",
    "roa_ok = (m.get('roa').fillna(-1) >= CRITERIA['min_roa'])\n",
    "profitability_ok = roe_ok | roa_ok | (m.get('roe').isna() & m.get('roa').isna())\n",
    "\n",
    "# Valuation: PB optional, PEG optional\n",
    "pb_ok = (('pb' not in m.columns) | m['pb'].isna() | (m['pb'] <= CRITERIA['max_pb']))\n",
    "peg_ok = (('peg' not in m.columns) | pd.isna(m['peg']) | (m['peg'] <= CRITERIA['max_peg']))\n",
    "\n",
    "cond = growth_ok & profitability_ok & pb_ok & peg_ok\n",
    "\n",
    "filtered = m[cond].sort_values(by=[c for c in ['profit_cagr_3y','rev_cagr_3y','roe'] if c in m.columns], ascending=False).reset_index(drop=True)\n",
    "filtered.head(20)\n"
   ]
  },
  {
   "cell_type": "code",
   "execution_count": 9,
   "id": "e6aa9e48",
   "metadata": {
    "execution": {
     "iopub.execute_input": "2025-09-23T03:12:55.617698Z",
     "iopub.status.busy": "2025-09-23T03:12:55.617596Z",
     "iopub.status.idle": "2025-09-23T03:12:55.625664Z",
     "shell.execute_reply": "2025-09-23T03:12:55.625297Z"
    },
    "papermill": {
     "duration": 0.010557,
     "end_time": "2025-09-23T03:12:55.626412",
     "exception": false,
     "start_time": "2025-09-23T03:12:55.615855",
     "status": "completed"
    },
    "tags": []
   },
   "outputs": [
    {
     "name": "stdout",
     "output_type": "stream",
     "text": [
      "Saved 1 rows to vn_screener_results.csv\n"
     ]
    },
    {
     "data": {
      "text/html": [
       "<div>\n",
       "<style scoped>\n",
       "    .dataframe tbody tr th:only-of-type {\n",
       "        vertical-align: middle;\n",
       "    }\n",
       "\n",
       "    .dataframe tbody tr th {\n",
       "        vertical-align: top;\n",
       "    }\n",
       "\n",
       "    .dataframe thead th {\n",
       "        text-align: right;\n",
       "    }\n",
       "</style>\n",
       "<table border=\"1\" class=\"dataframe\">\n",
       "  <thead>\n",
       "    <tr style=\"text-align: right;\">\n",
       "      <th></th>\n",
       "      <th>symbol</th>\n",
       "      <th>pe</th>\n",
       "      <th>pb</th>\n",
       "      <th>roe</th>\n",
       "      <th>roa</th>\n",
       "      <th>rev_cagr_3y</th>\n",
       "      <th>profit_cagr_3y</th>\n",
       "      <th>peg</th>\n",
       "      <th>brand_strength</th>\n",
       "      <th>moat</th>\n",
       "      <th>management_quality</th>\n",
       "      <th>esg_flag</th>\n",
       "      <th>strategy_alignment</th>\n",
       "      <th>new_trend_exposure</th>\n",
       "    </tr>\n",
       "  </thead>\n",
       "  <tbody>\n",
       "    <tr>\n",
       "      <th>0</th>\n",
       "      <td>VHM</td>\n",
       "      <td>5.2</td>\n",
       "      <td>0.8</td>\n",
       "      <td>NaN</td>\n",
       "      <td>NaN</td>\n",
       "      <td>0.063837</td>\n",
       "      <td>-0.034329</td>\n",
       "      <td>-151.476037</td>\n",
       "      <td></td>\n",
       "      <td></td>\n",
       "      <td></td>\n",
       "      <td></td>\n",
       "      <td></td>\n",
       "      <td></td>\n",
       "    </tr>\n",
       "  </tbody>\n",
       "</table>\n",
       "</div>"
      ],
      "text/plain": [
       "  symbol   pe   pb  roe  roa  rev_cagr_3y  profit_cagr_3y         peg brand_strength moat management_quality esg_flag strategy_alignment new_trend_exposure\n",
       "0    VHM  5.2  0.8  NaN  NaN     0.063837       -0.034329 -151.476037                                                                                      "
      ]
     },
     "execution_count": 9,
     "metadata": {},
     "output_type": "execute_result"
    }
   ],
   "source": [
    "# Export and add qualitative placeholders\n",
    "output_path = 'vn_screener_results.csv'\n",
    "q_cols = ['brand_strength','moat','management_quality','esg_flag','strategy_alignment','new_trend_exposure']\n",
    "res = filtered.copy()\n",
    "for c in q_cols:\n",
    "    res[c] = ''\n",
    "res.to_csv(output_path, index=False)\n",
    "print(f'Saved {len(res)} rows to {output_path}')\n",
    "res.head()\n"
   ]
  }
 ],
 "metadata": {
  "language_info": {
   "codemirror_mode": {
    "name": "ipython",
    "version": 3
   },
   "file_extension": ".py",
   "mimetype": "text/x-python",
   "name": "python",
   "nbconvert_exporter": "python",
   "pygments_lexer": "ipython3",
   "version": "3.13.2"
  },
  "papermill": {
   "default_parameters": {},
   "duration": 9.651695,
   "end_time": "2025-09-23T03:12:58.249858",
   "environment_variables": {},
   "exception": null,
   "input_path": "VN_Stock_Screener.ipynb",
   "output_path": "VN_Stock_Screener_output.ipynb",
   "parameters": {},
   "start_time": "2025-09-23T03:12:48.598163",
   "version": "2.6.0"
  }
 },
 "nbformat": 4,
 "nbformat_minor": 5
}